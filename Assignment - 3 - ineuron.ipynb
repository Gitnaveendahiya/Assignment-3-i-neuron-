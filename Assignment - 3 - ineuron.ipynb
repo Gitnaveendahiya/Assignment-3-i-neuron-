{
 "cells": [
  {
   "cell_type": "markdown",
   "id": "f4b36604",
   "metadata": {},
   "source": [
    "# Que 1. Why are functions advantageous to have in your programs?\n"
   ]
  },
  {
   "cell_type": "markdown",
   "id": "e074df70",
   "metadata": {},
   "source": [
    "Ans 1:- A function is very advantageous to have in programm because we don't need to write the whole function again and again.\n",
    "    Functions reduce the need for duplicate code. This makes programs shorter, easier to read, and easier to update. For Example:-"
   ]
  },
  {
   "cell_type": "code",
   "execution_count": 1,
   "id": "3018a413",
   "metadata": {},
   "outputs": [],
   "source": [
    "#Write a python function to reverse a string\n",
    "def rev(a):\n",
    "    a=a[::-1]\n",
    "    return a"
   ]
  },
  {
   "cell_type": "code",
   "execution_count": 3,
   "id": "4f621d68",
   "metadata": {},
   "outputs": [
    {
     "data": {
      "text/plain": [
       "'ayihaD neevaN'"
      ]
     },
     "execution_count": 3,
     "metadata": {},
     "output_type": "execute_result"
    }
   ],
   "source": [
    "rev(\"Naveen Dahiya\")#we create a function name rev(a) in which we get a reverse of your string.\n",
    "#We can use it again and again by calling it in the programm as many times as we need\n"
   ]
  },
  {
   "cell_type": "markdown",
   "id": "58a82731",
   "metadata": {},
   "source": [
    "# Que 2:-When does the code in a function run: when it's specified or when it's called?"
   ]
  },
  {
   "cell_type": "markdown",
   "id": "027bd709",
   "metadata": {},
   "source": [
    "Ans 2:-A function is a block of code which only runs when it is called. You can pass data, known as parameters, into a function. Functions are used to perform certain actions, and they are important for reusing code, Define the code once, and use it many times by calling it.In the above case we define a function name rev(a). It doesn't work until we call it. "
   ]
  },
  {
   "cell_type": "markdown",
   "id": "dfb8d5bc",
   "metadata": {},
   "source": [
    "# Que 3:-What statement creates a function?"
   ]
  },
  {
   "cell_type": "markdown",
   "id": "b2ee38b1",
   "metadata": {},
   "source": [
    "Ans 3:- The \"def\" is the reserved keyword to create a function. You start a function with the def keyword, specify a name followed by a colon (:) sign. The “def” call creates the function object and assigns it to the name given. You can further re-assign the same function object to other names. For example:-"
   ]
  },
  {
   "cell_type": "code",
   "execution_count": 4,
   "id": "d152987c",
   "metadata": {},
   "outputs": [],
   "source": [
    "def aad():#Here we can use a reserved keyword (\"def\") to create a function\n",
    "    a=int(input())\n",
    "    b=int(input())\n",
    "    c=a+b\n",
    "    return c"
   ]
  },
  {
   "cell_type": "code",
   "execution_count": 6,
   "id": "30651400",
   "metadata": {},
   "outputs": [
    {
     "name": "stdout",
     "output_type": "stream",
     "text": [
      "55\n",
      "88\n"
     ]
    },
    {
     "data": {
      "text/plain": [
       "143"
      ]
     },
     "execution_count": 6,
     "metadata": {},
     "output_type": "execute_result"
    }
   ],
   "source": [
    "aad()"
   ]
  },
  {
   "cell_type": "markdown",
   "id": "5ede2c13",
   "metadata": {},
   "source": [
    "# Que 4:-What is the difference between a function and a function call?"
   ]
  },
  {
   "cell_type": "markdown",
   "id": "9dbc3380",
   "metadata": {},
   "source": [
    "Ans 4:-A function call means invoking or calling that function. Unless a function is called there is no use of that function. So the difference between the function and function call is, A function is procedure to achieve a particular result while function call is using this function to achive that task."
   ]
  },
  {
   "cell_type": "markdown",
   "id": "a83cb7e4",
   "metadata": {},
   "source": [
    "# Que 5:-How many global scopes are there in a Python program? How many local scopes?\n"
   ]
  },
  {
   "cell_type": "markdown",
   "id": "0abe362a",
   "metadata": {},
   "source": [
    "Ans 5:- In python there are four scopes using the so-called LEGB-Rule.The letters in LEGB stand for Local, Enclosing, Global, and Built-in.There's only one global Python scope per program execution. This scope remains in existence until the program terminates and all its names are forgotten.Local scope are the scope which are present inside the fuction.\n",
    "\n",
    "For example, if you assign a value to a name inside a function, then that name will have a local Python scope. In contrast, if you assign a value to a name outside of all functions—say, at the top level of a module—then that name will have a global Python scope."
   ]
  },
  {
   "cell_type": "markdown",
   "id": "8a3f127f",
   "metadata": {},
   "source": [
    "# Que 6:-What happens to variables in a local scope when the function call returns?"
   ]
  },
  {
   "cell_type": "markdown",
   "id": "15717b7c",
   "metadata": {},
   "source": [
    "Ans 6:-When the execution of the function terminates (returns), the local variables are destroyed. Codelens helps you visualize this because the local variables disappear after the function returns."
   ]
  },
  {
   "cell_type": "markdown",
   "id": "925aeb86",
   "metadata": {},
   "source": [
    "# Que 7:-. What is the concept of a return value? Is it possible to have a return value in an expression?\n"
   ]
  },
  {
   "cell_type": "markdown",
   "id": "7e8aef29",
   "metadata": {},
   "source": [
    "Ans 7:- A return statement is used to end the execution of the function call and “returns” the result (value of the expression following the return keyword) to the caller. The statements after the return statements are not executed. If the return statement is without any expression, then the special value None is returned. Return statement can not be used outside the function.\n",
    "\n",
    "The return value of a Python function can be any Python object. Everything in Python is an object. So, your functions can return numeric values (int, float, and complex values), collections and sequences of objects (list, tuple, dictionary, or set objects), user-defined objects, classes, functions, and even modules or packages."
   ]
  },
  {
   "cell_type": "markdown",
   "id": "2fab2fb1",
   "metadata": {},
   "source": [
    "# Que 8:-. If a function does not have a return statement, what is the return value of a call to that function?\n"
   ]
  },
  {
   "cell_type": "markdown",
   "id": "d3440577",
   "metadata": {},
   "source": [
    "Ans 8:-If a function doesn't specify a return value, it returns None.When we call it then nothing is come as a result.\n",
    "\n",
    "For example:-\n"
   ]
  },
  {
   "cell_type": "code",
   "execution_count": 1,
   "id": "79c7d259",
   "metadata": {},
   "outputs": [],
   "source": [
    "def aad():\n",
    "    a=45\n",
    "    b=14\n",
    "    c=a+b\n",
    " #it returns nothing when we call it desplay nothing   "
   ]
  },
  {
   "cell_type": "code",
   "execution_count": 3,
   "id": "6d032529",
   "metadata": {},
   "outputs": [],
   "source": [
    "def ad():#When we call this function it returns the result\n",
    "    a=45\n",
    "    b=14\n",
    "    c=a+b\n",
    "    return c"
   ]
  },
  {
   "cell_type": "code",
   "execution_count": 4,
   "id": "7149ad22",
   "metadata": {},
   "outputs": [],
   "source": [
    "aad()"
   ]
  },
  {
   "cell_type": "code",
   "execution_count": 5,
   "id": "a954ecd1",
   "metadata": {},
   "outputs": [
    {
     "data": {
      "text/plain": [
       "59"
      ]
     },
     "execution_count": 5,
     "metadata": {},
     "output_type": "execute_result"
    }
   ],
   "source": [
    "ad()"
   ]
  },
  {
   "cell_type": "markdown",
   "id": "bc00e73b",
   "metadata": {},
   "source": [
    "# Que 9:-How do you make a function variable refer to the global variable?\n"
   ]
  },
  {
   "cell_type": "markdown",
   "id": "64d82608",
   "metadata": {},
   "source": [
    "Ans 9:- If you want to refer to a global variable in a function, you can use the global keyword to declare which variables are global.A global statement will force a variable in a function to refer to the global variable."
   ]
  },
  {
   "cell_type": "markdown",
   "id": "528950d1",
   "metadata": {},
   "source": [
    "# Que 10:-What is the data type of None?"
   ]
  },
  {
   "cell_type": "markdown",
   "id": "edecc901",
   "metadata": {},
   "source": [
    "Ans 10:-None is used to define a null value. It is not the same as an empty string, False, or a zero. It is a data type of the class NoneType object. Assigning a value of None to a variable is one way to reset it to its original, empty state.\n",
    "\n",
    "For example:-"
   ]
  },
  {
   "cell_type": "code",
   "execution_count": 6,
   "id": "c274a065",
   "metadata": {},
   "outputs": [],
   "source": [
    "def asd():\n",
    "    a=45\n",
    "    b=14\n",
    "    c=a+b\n",
    "    print (c)#print statement always return a nonetype"
   ]
  },
  {
   "cell_type": "code",
   "execution_count": 7,
   "id": "39a8967b",
   "metadata": {},
   "outputs": [
    {
     "name": "stdout",
     "output_type": "stream",
     "text": [
      "59\n"
     ]
    },
    {
     "data": {
      "text/plain": [
       "NoneType"
      ]
     },
     "execution_count": 7,
     "metadata": {},
     "output_type": "execute_result"
    }
   ],
   "source": [
    "type(asd())"
   ]
  },
  {
   "cell_type": "markdown",
   "id": "ed95a6ac",
   "metadata": {},
   "source": [
    "# Que 11:-What does the sentence import areallyourpetsnamederic do?\n"
   ]
  },
  {
   "cell_type": "code",
   "execution_count": 8,
   "id": "9ddc94f5",
   "metadata": {},
   "outputs": [
    {
     "ename": "ModuleNotFoundError",
     "evalue": "No module named 'areallyourpetsnamederic'",
     "output_type": "error",
     "traceback": [
      "\u001b[1;31m---------------------------------------------------------------------------\u001b[0m",
      "\u001b[1;31mModuleNotFoundError\u001b[0m                       Traceback (most recent call last)",
      "\u001b[1;32m~\\AppData\\Local\\Temp/ipykernel_3400/51184242.py\u001b[0m in \u001b[0;36m<module>\u001b[1;34m\u001b[0m\n\u001b[1;32m----> 1\u001b[1;33m \u001b[1;32mimport\u001b[0m \u001b[0mareallyourpetsnamederic\u001b[0m\u001b[1;33m\u001b[0m\u001b[1;33m\u001b[0m\u001b[0m\n\u001b[0m",
      "\u001b[1;31mModuleNotFoundError\u001b[0m: No module named 'areallyourpetsnamederic'"
     ]
    }
   ],
   "source": [
    "import areallyourpetsnamederic #This is not a module. It through a modulenotfound error"
   ]
  },
  {
   "cell_type": "markdown",
   "id": "243830ad",
   "metadata": {},
   "source": [
    "# Que 12:-. If you had a bacon() feature in a spam module, what would you call it after importing spam?\n"
   ]
  },
  {
   "cell_type": "markdown",
   "id": "5f9a1a60",
   "metadata": {},
   "source": [
    "Ans 12:-This function can be called with spam.bacon()."
   ]
  },
  {
   "cell_type": "markdown",
   "id": "6827acae",
   "metadata": {},
   "source": [
    "# Que 13:-. What can you do to save a programme from crashing if it encounters an error?\n"
   ]
  },
  {
   "cell_type": "markdown",
   "id": "09db2c8c",
   "metadata": {},
   "source": [
    "Ans 13:- we have moved our code inside a try and except statement. Try running the program and it should throw an error message instead of crashing the program.\n",
    "\n",
    "For example:-"
   ]
  },
  {
   "cell_type": "code",
   "execution_count": 9,
   "id": "7905844a",
   "metadata": {},
   "outputs": [],
   "source": [
    "def addd():\n",
    "    try:\n",
    "        a=int(input())\n",
    "        b=int(input())\n",
    "        c=a+b\n",
    "        return c\n",
    "    except Exception as e:\n",
    "        print(e)"
   ]
  },
  {
   "cell_type": "code",
   "execution_count": 10,
   "id": "6e173e9a",
   "metadata": {},
   "outputs": [
    {
     "name": "stdout",
     "output_type": "stream",
     "text": [
      "45\n",
      "asd\n",
      "invalid literal for int() with base 10: 'asd'\n"
     ]
    }
   ],
   "source": [
    "addd()"
   ]
  },
  {
   "cell_type": "markdown",
   "id": "8909c5db",
   "metadata": {},
   "source": [
    "# Que 14:-What is the purpose of the try clause? What is the purpose of the except clause?\n"
   ]
  },
  {
   "cell_type": "markdown",
   "id": "7cb39b24",
   "metadata": {},
   "source": [
    "Ans 14:- except statement catches an exception. It is used to test code for an error which is written in the “try” statement. If an error is encountered, the contents of the “except” block are run.\n",
    "\n",
    "The code that could potentially cause an error goes in the try clause.The code that executes if an error happens goes in the except clause."
   ]
  },
  {
   "cell_type": "code",
   "execution_count": null,
   "id": "5f54e5be",
   "metadata": {},
   "outputs": [],
   "source": []
  }
 ],
 "metadata": {
  "kernelspec": {
   "display_name": "Python 3 (ipykernel)",
   "language": "python",
   "name": "python3"
  },
  "language_info": {
   "codemirror_mode": {
    "name": "ipython",
    "version": 3
   },
   "file_extension": ".py",
   "mimetype": "text/x-python",
   "name": "python",
   "nbconvert_exporter": "python",
   "pygments_lexer": "ipython3",
   "version": "3.9.7"
  }
 },
 "nbformat": 4,
 "nbformat_minor": 5
}
